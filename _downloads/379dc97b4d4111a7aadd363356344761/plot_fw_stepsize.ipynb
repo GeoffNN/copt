{
  "cells": [
    {
      "cell_type": "code",
      "execution_count": null,
      "metadata": {
        "collapsed": false
      },
      "outputs": [],
      "source": [
        "%matplotlib inline"
      ]
    },
    {
      "cell_type": "markdown",
      "metadata": {},
      "source": [
        "\nComparison of different step-sizes in Frank-Wolfe\n=================================================\n\n\n\n"
      ]
    },
    {
      "cell_type": "code",
      "execution_count": null,
      "metadata": {
        "collapsed": false
      },
      "outputs": [],
      "source": [
        "import copt as cp\nimport matplotlib.pylab as plt\nimport numpy as np\n\n# datasets and their respective loading functions\ndatasets = [\n    (\"Gisette\", cp.datasets.load_gisette),\n    (\"RCV1\", cp.datasets.load_rcv1),\n    (\"Madelon\", cp.datasets.load_madelon),\n    (\"Covtype\", cp.datasets.load_covtype)\n    ]\n\n\nfig, axes = plt.subplots(nrows=2, ncols=2, figsize=(10, 5))\nfor ax, (dataset_title, load_data) in zip(axes.ravel(), datasets):\n  print(\"Running on the %s dataset\" % dataset_title)\n\n  X, y = load_data()\n  n_samples, n_features = X.shape\n\n  l1_ball = cp.utils.L1Ball(n_features / 2.)\n  f = cp.utils.LogLoss(X, y)\n  x0 = np.zeros(n_features)\n\n  for step_size, label in [\n      [\"adaptive\", \"adaptive step-size\"],\n      [\"adaptive2\", \"adaptive2 step-size\"],\n      [None, \"Lipschitz step-size\"]\n      ]:\n    cb = cp.utils.Trace(f)\n    trace_gt = []\n\n    def trace(kw):\n      # store the Frank-Wolfe gap g_t\n      trace_gt.append(kw[\"g_t\"])\n\n    cp.minimize_frank_wolfe(\n        f.f_grad,\n        x0,\n        l1_ball.lmo,\n        callback=trace,\n        max_iter=500,\n        step_size=step_size,\n        verbose=True,\n        lipschitz=f.lipschitz,\n    )\n    # ax.plot(trace_gt, label=label)\n    ax.plot(trace_gt, label=label)\n    ax.set_yscale(\"log\")\n    ax.legend()\n  ax.set_xlabel(\"number of iterations\")\n  ax.set_ylabel(\"FW gap\")\n  ax.set_title(dataset_title)\n  fig.tight_layout()  # otherwise the right y-label is slightly clipped\n  ax.grid()\n# plt.legend()\nplt.show()"
      ]
    }
  ],
  "metadata": {
    "kernelspec": {
      "display_name": "Python 3",
      "language": "python",
      "name": "python3"
    },
    "language_info": {
      "codemirror_mode": {
        "name": "ipython",
        "version": 3
      },
      "file_extension": ".py",
      "mimetype": "text/x-python",
      "name": "python",
      "nbconvert_exporter": "python",
      "pygments_lexer": "ipython3",
      "version": "3.6.6"
    }
  },
  "nbformat": 4,
  "nbformat_minor": 0
}