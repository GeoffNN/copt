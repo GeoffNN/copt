{
  "cells": [
    {
      "cell_type": "code",
      "execution_count": null,
      "metadata": {
        "collapsed": false
      },
      "outputs": [],
      "source": [
        "%matplotlib inline"
      ]
    },
    {
      "cell_type": "markdown",
      "metadata": {},
      "source": [
        "\nCombining COPT with JAX\n=======================\n\nThis example shows how JAX can be used within COPT\nto compute the gradients of the objective function.\nIn this example tensorflow-datasets is used to provide\nthe training data.\n\n"
      ]
    },
    {
      "cell_type": "code",
      "execution_count": null,
      "metadata": {
        "collapsed": false
      },
      "outputs": [],
      "source": [
        "import copt as cp\nfrom jax import grad\nfrom jax import numpy as np\nfrom jax import random\nimport numpy as onp\nimport pylab as plt\n\n# .. construct (random) dataset ..\nn_samples, n_features = 1000, 200\nkey = random.PRNGKey(1)\nX = random.normal(key, (n_samples, n_features))\nkey, subkey = random.split(key)\ny = random.normal(key, (n_samples,))\n\n\ndef loss(w):\n  # squared error loss\n  z = X.dot(w) - y\n  return np.sum(z * z)\n\n\ndef f_grad(w):\n  return loss(w), grad(loss)(w)\n\nw0 = onp.zeros(n_features)\n\nl1_ball = cp.utils.L1Ball(n_features / 2.)\ncb = cp.utils.Trace(lambda x: loss(x) + l1_ball(x))\ncp.minimize_proximal_gradient(\n    f_grad,\n    w0,\n    prox=l1_ball.prox,\n    callback=cb\n)\nplt.plot(cb.trace_fx)\nplt.xlabel('# Iterations')\nplt.ylabel('Objective value')\nplt.grid()\nplt.show()"
      ]
    }
  ],
  "metadata": {
    "kernelspec": {
      "display_name": "Python 3",
      "language": "python",
      "name": "python3"
    },
    "language_info": {
      "codemirror_mode": {
        "name": "ipython",
        "version": 3
      },
      "file_extension": ".py",
      "mimetype": "text/x-python",
      "name": "python",
      "nbconvert_exporter": "python",
      "pygments_lexer": "ipython3",
      "version": "3.6.6"
    }
  },
  "nbformat": 4,
  "nbformat_minor": 0
}