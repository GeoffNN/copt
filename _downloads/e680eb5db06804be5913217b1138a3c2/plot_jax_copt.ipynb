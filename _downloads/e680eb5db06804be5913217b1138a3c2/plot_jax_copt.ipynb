{
  "cells": [
    {
      "cell_type": "code",
      "execution_count": null,
      "metadata": {
        "collapsed": false
      },
      "outputs": [],
      "source": [
        "%matplotlib inline"
      ]
    },
    {
      "cell_type": "markdown",
      "metadata": {},
      "source": [
        "\nCombining COPT with JAX\n=======================\n\nThis example shows how `JAX <https://github.com/google/jax>`_\ncan be used within COPT to compute the gradients of the\nobjective function. In this example tensorflow-datasets\nis used to provide the training data.\n\n"
      ]
    },
    {
      "cell_type": "code",
      "execution_count": null,
      "metadata": {
        "collapsed": false
      },
      "outputs": [],
      "source": [
        "import copt as cp\nfrom jax import grad\nfrom jax import numpy as np\nimport numpy as onp\nimport pylab as plt\nfrom sklearn import datasets\n\n# .. construct (random) dataset ..\nX, y = datasets.make_regression()\nn_samples, n_features = X.shape\n\n\ndef loss(w):\n  # squared error loss\n  z = np.dot(X, w) - y\n  return np.sum(z * z) / n_samples\n\n\ndef f_grad(w):\n  return loss(w), grad(loss)(w)\n\nw0 = onp.zeros(n_features)\n\nl1_ball = cp.utils.L1Norm(0.1)\ncb = cp.utils.Trace(lambda x: loss(x) + l1_ball(x))\nsol = cp.minimize_proximal_gradient(\n    f_grad,\n    w0,\n    prox=l1_ball.prox,\n    callback=cb\n)\nplt.plot(cb.trace_fx, lw=3)\nplt.yscale('log')\nplt.xlabel('# Iterations')\nplt.ylabel('Objective value')\nplt.grid()\nplt.show()"
      ]
    }
  ],
  "metadata": {
    "kernelspec": {
      "display_name": "Python 3",
      "language": "python",
      "name": "python3"
    },
    "language_info": {
      "codemirror_mode": {
        "name": "ipython",
        "version": 3
      },
      "file_extension": ".py",
      "mimetype": "text/x-python",
      "name": "python",
      "nbconvert_exporter": "python",
      "pygments_lexer": "ipython3",
      "version": "3.6.6"
    }
  },
  "nbformat": 4,
  "nbformat_minor": 0
}