{
  "cells": [
    {
      "cell_type": "code",
      "execution_count": null,
      "metadata": {
        "collapsed": false
      },
      "outputs": [],
      "source": [
        "%matplotlib inline"
      ]
    },
    {
      "cell_type": "markdown",
      "metadata": {},
      "source": [
        "\nEffect of acceleration in gradient descent\n==========================================\n\nShowcase the improved convergence of accelerated gradient\ndescent on a logistic regression problem.\n\n"
      ]
    },
    {
      "cell_type": "code",
      "execution_count": null,
      "metadata": {
        "collapsed": false
      },
      "outputs": [],
      "source": [
        "import numpy as np\nimport pylab as plt\nimport copt as cp\n\n# .. construct (random) dataset ..\nn_samples, n_features = 1000, 200\nnp.random.seed(0)\nX = np.random.randn(n_samples, n_features)\ny = np.random.rand(n_samples)\n\nlogloss = cp.utils.LogLoss(X, y).f_grad\ncb_pgd = cp.utils.Trace()\ncb_apgd = cp.utils.Trace()\nL = cp.utils.get_lipschitz(X, 'logloss')\nstep_size = 1. / L\nresult_pgd = cp.minimize_PGD(\n    logloss, np.zeros(n_features), step_size=step_size,\n    callback=cb_pgd, tol=0, backtracking=False)\nresult_apgd = cp.minimize_APGD(\n    logloss, np.zeros(n_features), step_size=step_size,\n    callback=cb_apgd, tol=0, backtracking=False)\n\ntrace_func_pgd = np.array([logloss(x)[0] for x in cb_pgd.trace_x])\ntrace_func_apgd = np.array([logloss(x)[0] for x in cb_apgd.trace_x])\n\n# .. plot the result ..\nfmin = min(np.min(trace_func_apgd), np.min(trace_func_pgd))\nplt.title('Comparison of full gradient optimizers')\nplt.plot(trace_func_pgd - fmin, lw=4,\n         label='gradient descent')\nplt.plot(trace_func_apgd - fmin, lw=4,\n         label='accelerated gradient descent')\nplt.ylabel('Function suboptimality', fontweight='bold')\nplt.xlabel('gradient evaluations', fontweight='bold')\nplt.yscale('log')\nplt.ylim(ymin=1e-16)\nplt.xlim((0, 150))\nplt.legend()\nplt.grid()\nplt.show()"
      ]
    }
  ],
  "metadata": {
    "kernelspec": {
      "display_name": "Python 3",
      "language": "python",
      "name": "python3"
    },
    "language_info": {
      "codemirror_mode": {
        "name": "ipython",
        "version": 3
      },
      "file_extension": ".py",
      "mimetype": "text/x-python",
      "name": "python",
      "nbconvert_exporter": "python",
      "pygments_lexer": "ipython3",
      "version": "3.6.0"
    }
  },
  "nbformat": 4,
  "nbformat_minor": 0
}