{
  "cells": [
    {
      "cell_type": "code",
      "execution_count": null,
      "metadata": {
        "collapsed": false
      },
      "outputs": [],
      "source": [
        "%matplotlib inline"
      ]
    },
    {
      "cell_type": "markdown",
      "metadata": {},
      "source": [
        "\nFrank-Wolfe and Pairwise Frank-Wolfe\n====================================\n\nThis example features a comparison in terms of convergence speed per iteration\nbetween the Frank-Wolfe and the Pairwise Frank-Wolfe algorithms.\n\n"
      ]
    },
    {
      "cell_type": "code",
      "execution_count": null,
      "metadata": {
        "collapsed": false
      },
      "outputs": [],
      "source": [
        "import numpy as np\nfrom scipy import sparse\nimport pylab as plt\nimport copt as cp\n\nnp.random.seed(0)\n\n# .. generate some data ..\nn_samples, n_features = 20, 20\n#\n# max_iter = 5000\n# print('#features', n_features)\nA = sparse.rand(n_samples, n_features, density=0.2)\nground_truth = np.random.randn(n_features)\nb = A.dot(ground_truth) + np.random.randn(n_samples)\n\n# make labels in {0, 1}\nb = np.sign(b)\nb = (b + 1) // 2\nf = cp.utils.LogLoss(A, b)\nalpha = 1./n_samples\nL = cp.utils.get_lipschitz(A, f, alpha)\n\n#\n# # .. run the solver for different values ..\n# # .. of the regularization parameter beta ..\nall_betas = [1., 10., 100.]\nall_trace_fw, all_trace_pfw = [], []\nmax_iter = [1000, 5000, 10000]\nfor i, beta in enumerate(all_betas):\n    print('beta = %s' % beta)\n    pen = cp.utils.L1Ball(beta)\n\n    cb_fw = cp.utils.Trace(f)\n    cp.minimize_FW(\n        f.f_grad, pen.lmo, np.zeros(n_features), callback=cb_fw,\n        max_iter=max_iter[i], verbose=True, tol=0)\n    all_trace_fw.append(cb_fw.trace_fx)\n\n    cb_pfw = cp.utils.Trace(f)\n    cp.minimize_PFW_L1(\n        f.f_grad, beta, n_features, callback=cb_pfw,\n        max_iter=max_iter[i], verbose=True, tol=0, backtracking=True)\n    all_trace_pfw.append(cb_pfw.trace_fx)\n\n\n# .. plot the results ..\nfig, ax = plt.subplots(1, 3, sharey=False)\nxlim = [0.02, 0.02, 0.1]\nfor i, beta in enumerate(all_betas):\n\n    fmin = min(np.min(all_trace_fw[i]), np.min(all_trace_pfw[i]))\n    ax[i].plot(all_trace_fw[i] - fmin, label='FW')\n    ax[i].plot(all_trace_pfw[i] - fmin, label='PFW')\n\n    ax[i].set_xlabel('Iterations')\n    ax[i].set_yscale('log')\n    ax[i].set_ylim((1e-10, None))\n    ax[i].grid(True)\n\nplt.legend()\nplt.show()"
      ]
    }
  ],
  "metadata": {
    "kernelspec": {
      "display_name": "Python 3",
      "language": "python",
      "name": "python3"
    },
    "language_info": {
      "codemirror_mode": {
        "name": "ipython",
        "version": 3
      },
      "file_extension": ".py",
      "mimetype": "text/x-python",
      "name": "python",
      "nbconvert_exporter": "python",
      "pygments_lexer": "ipython3",
      "version": "3.6.0"
    }
  },
  "nbformat": 4,
  "nbformat_minor": 0
}